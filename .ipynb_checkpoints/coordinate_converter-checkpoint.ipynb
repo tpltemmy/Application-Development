{
 "cells": [
  {
   "cell_type": "code",
   "execution_count": null,
   "id": "75239774",
   "metadata": {},
   "outputs": [],
   "source": [
    "!pip install streamlit"
   ]
  },
  {
   "cell_type": "code",
   "execution_count": null,
   "id": "4f941b1d",
   "metadata": {},
   "outputs": [],
   "source": [
    "!streamlit run Age_Calculator.py"
   ]
  },
  {
   "cell_type": "code",
   "execution_count": null,
   "id": "9f208d04",
   "metadata": {},
   "outputs": [],
   "source": []
  }
 ],
 "metadata": {
  "kernelspec": {
   "display_name": "Python 3 (ipykernel)",
   "language": "python",
   "name": "python3"
  },
  "language_info": {
   "codemirror_mode": {
    "name": "ipython",
    "version": 3
   },
   "file_extension": ".py",
   "mimetype": "text/x-python",
   "name": "python",
   "nbconvert_exporter": "python",
   "pygments_lexer": "ipython3",
   "version": "3.9.12"
  }
 },
 "nbformat": 4,
 "nbformat_minor": 5
}
